{
 "cells": [
  {
   "cell_type": "code",
   "execution_count": 1,
   "metadata": {},
   "outputs": [],
   "source": [
    "import numpy as np\n",
    "import pandas as pd\n",
    "# import scipy.io\n",
    "from scipy import io\n",
    "import os\n",
    "import glob\n",
    "import matplotlib.pyplot as plt\n",
    "import json\n",
    "\n",
    "from sklearn.linear_model import LinearRegression"
   ]
  },
  {
   "cell_type": "code",
   "execution_count": 7,
   "metadata": {},
   "outputs": [],
   "source": [
    "from scipy.io import loadmat, matlab\n",
    "def load_mat(filename):\n",
    "    \"\"\"\n",
    "    This function should be called instead of direct scipy.io.loadmat\n",
    "    as it cures the problem of not properly recovering python dictionaries\n",
    "    from mat files. It calls the function check keys to cure all entries\n",
    "    which are still mat-objects\n",
    "    \"\"\"\n",
    "\n",
    "    def _check_vars(d):\n",
    "        \"\"\"\n",
    "        Checks if entries in dictionary are mat-objects. If yes\n",
    "        todict is called to change them to nested dictionaries\n",
    "        \"\"\"\n",
    "        for key in d:\n",
    "            if isinstance(d[key], matlab.mio5_params.mat_struct):\n",
    "                d[key] = _todict(d[key])\n",
    "            elif isinstance(d[key], np.ndarray):\n",
    "                d[key] = _toarray(d[key])\n",
    "        return d\n",
    "\n",
    "    def _todict(matobj):\n",
    "        \"\"\"\n",
    "        A recursive function which constructs from matobjects nested dictionaries\n",
    "        \"\"\"\n",
    "        d = {}\n",
    "        for strg in matobj._fieldnames:\n",
    "            elem = matobj.__dict__[strg]\n",
    "            if isinstance(elem, matlab.mio5_params.mat_struct):\n",
    "                d[strg] = _todict(elem)\n",
    "            elif isinstance(elem, np.ndarray):\n",
    "                d[strg] = _toarray(elem)\n",
    "            else:\n",
    "                d[strg] = elem\n",
    "        return d\n",
    "\n",
    "    def _toarray(ndarray):\n",
    "        \"\"\"\n",
    "        A recursive function which constructs ndarray from cellarrays\n",
    "        (which are loaded as numpy ndarrays), recursing into the elements\n",
    "        if they contain matobjects.\n",
    "        \"\"\"\n",
    "        if ndarray.dtype != 'float64':\n",
    "            elem_list = []\n",
    "            for sub_elem in ndarray:\n",
    "                if isinstance(sub_elem, matlab.mio5_params.mat_struct):\n",
    "                    elem_list.append(_todict(sub_elem))\n",
    "                elif isinstance(sub_elem, np.ndarray):\n",
    "                    elem_list.append(_toarray(sub_elem))\n",
    "                else:\n",
    "                    elem_list.append(sub_elem)\n",
    "            return np.array(elem_list)\n",
    "        else:\n",
    "            return ndarray\n",
    "\n",
    "    data = loadmat(filename, struct_as_record=False, squeeze_me=True)\n",
    "    return _check_vars(data)"
   ]
  },
  {
   "cell_type": "code",
   "execution_count": 31,
   "metadata": {},
   "outputs": [
    {
     "data": {
      "text/plain": [
       "124"
      ]
     },
     "execution_count": 31,
     "metadata": {},
     "output_type": "execute_result"
    }
   ],
   "source": [
    "a = curr_file['trial_results'][0][1]['RT1']\n",
    "len(a)"
   ]
  },
  {
   "cell_type": "code",
   "execution_count": null,
   "metadata": {},
   "outputs": [],
   "source": []
  },
  {
   "cell_type": "code",
   "execution_count": null,
   "metadata": {},
   "outputs": [],
   "source": [
    "nTrial = 300\n",
    "nCatch = 5\n",
    "nTotal = nTrial + nCatch\n",
    "subList = glob.glob('S*.csv')\n",
    "subInfo = []\n",
    "subListMat = []\n",
    "# for i, sub in enumerate(subList):\n",
    "#     jfile = sub.replace('data.csv', 'subinfo.json')\n",
    "#     with open(jfile) as json_file:\n",
    "#         json_data = json.load(json_file)\n",
    "#     age = json_data[0][\"age\"]\n",
    "#     sex = json_data[0][\"sex\"]\n",
    "#     reward = json_data[0][\"reward\"]\n",
    "#     workerid = json_data[0][\"workerid\"]\n",
    "#     assignmentid = json_data[0][\"assignmentid\"]\n",
    "#     subInfo.append((sex,age, sub, reward))\n",
    "#     print((sex,age,sub,reward))\n",
    "#     print(workerid)\n",
    "#     print(assignmentid)\n",
    "#     subListMat.append(sub.replace('.csv', '.mat'))\n",
    "# subInfo\n",
    "# subListMat"
   ]
  },
  {
   "cell_type": "code",
   "execution_count": null,
   "metadata": {},
   "outputs": [],
   "source": []
  },
  {
   "cell_type": "code",
   "execution_count": null,
   "metadata": {},
   "outputs": [],
   "source": [
    "nTrial = 300\n",
    "nCatch = 5\n",
    "nTotal = nTrial + nCatch\n",
    "subList = glob.glob('S*.csv')\n",
    "i=0\n",
    "sub=subList[0]\n",
    "jfile = sub.replace('data.csv', 'subinfo.json')\n",
    "with open(jfile) as json_file:\n",
    "    json_data = json.load(json_file)\n",
    "json_data\n"
   ]
  },
  {
   "cell_type": "markdown",
   "metadata": {},
   "source": [
    "* Model 1: baseline model with $\\alpha$, $\\beta$, $w$, and $\\gamma$\n",
    "\n",
    "|  | sub1 | sub2 | sub3 | sub4 | sub5 | sub6 | sub7 | sub8 |\n",
    "|-|-|-|-|-|-|-|-|-|\n",
    "| age | 38 | 22 | 27 | 48 | 34 | 66 | 29 | 37 |\n",
    "| sex | m | f | m | f | m | f | m | f |\n",
    "| alpha | 0.19 | 0.98 | 0.03 | 0.36 | 0.37 | 0.20 | 0.11 | 0.31 |\n",
    "| beta | 9.86 | 5.74 | 3.15 | 6.53 | 3.07 | 3.21 | 7.53 | 1.80 |\n",
    "| w | 0.27 | 0.99 | 0.95 | 0.62 | 0.01 | 0.13 | 0.14 | 0.82 |\n",
    "| gamma | 0.02 | 0.12 | 0.00 | 0.02 | 0.03 | 0.04 | 0.01 | 0.50 |\n",
    "| reward | 161.00 | 161.00 | 147.00 | 134.00 | 144.00 | 128.00 | 145.00 | 153.00 |\n",
    "| catch correct | 3.00 | 5.00 | 5.00 | 4.00 | 4.00 | 4.00 | 5.00 | 0.00 |\n",
    "| valid trials | 297.00 | 298.00 | 297.00 | 298.00 | 298.00 | 299.00 | 300.00 | 292.00 |\n",
    "| AIC | 487.11 | 572.25 | 821.93 | 624.35 | 751.68 | 807.73 | 639.33 | 812.44 |\n",
    "| BIC | 33.77 | 34.10 | 34.83 | 34.28 | 34.65 | 34.80 | 34.32 | 34.81 |\n",
    "| mean p(S1) | 0.63 | 0.64 | 0.50 | 0.56 | 0.57 | 0.51 | 0.54 | 0.50 |\n",
    "| pval | 0.00 | 0.00 | 0.73 | 0.00 | 0.00 | 0.05 | 0.00 | 0.01 |\n",
    "| t-stat | 10.81 | 11.64 | 0.35 | 6.66 | 9.32 | 1.99 | 4.52 | 2.48 |\n",
    "| mean p(S2) | 0.85 | 0.72 | 0.52 | 0.74 | 0.56 | 0.54 | 0.75 | 0.50 |\n",
    "| pval | 0.00 | 0.00 | 0.00 | 0.00 | 0.00 | 0.00 | 0.00 | 0.19 |\n",
    "| t-stat | 26.81 | 15.15 | 3.36 | 16.12 | 5.37 | 5.21 | 18.12 | 1.30 |\n",
    "\n",
    "* Model 3: model with $\\alpha$, $\\beta$, and $w$ (without decay)\n",
    "\n",
    "|  | sub1 | sub2 | sub3 | sub4 | sub5 | sub6 | sub7 | sub8 |\n",
    "|-|-|-|-|-|-|-|-|-|\n",
    "| age | 38 | 22 | 27 | 48 | 34 | 66 | 29 | 37 |\n",
    "| sex | m | f | m | f | m | f | m | f |\n",
    "| alpha | 0.06 | 0.91 | 0.04 | 0.39 | 0.11 | 0.27 | 0.13 | 0.96 |\n",
    "| beta | 7.26 | 3.51 | 2.81 | 5.39 | 3.81 | 1.75 | 5.69 | 0.31 |\n",
    "| w | 0.23 | 1.00 | 0.95 | 0.84 | 0.01 | 0.57 | 0.43 | 0.46 |\n",
    "| reward | 161.00 | 161.00 | 147.00 | 134.00 | 144.00 | 128.00 | 145.00 | 153.00 |\n",
    "| catch correct | 3.00 | 5.00 | 5.00 | 4.00 | 4.00 | 4.00 | 5.00 | 0.00 |\n",
    "| valid trials | 297.00 | 298.00 | 297.00 | 298.00 | 298.00 | 299.00 | 300.00 | 292.00 |\n",
    "| AIC | 547.52 | 602.70 | 818.79 | 646.84 | 761.43 | 816.49 | 654.95 | 812.50 |\n",
    "| BIC | 28.31 | 28.51 | 29.13 | 28.65 | 28.98 | 29.12 | 28.68 | 29.11 |\n",
    "| mean p(S1) | 0.58 | 0.60 | 0.50 | 0.54 | 0.57 | 0.50 | 0.54 | 0.50 |\n",
    "| pval | 0.00 | 0.00 | 0.63 | 0.00 | 0.00 | 0.73 | 0.00 | 0.10 |\n",
    "| t-stat | 7.93 | 9.98 | 0.48 | 5.01 | 9.36 | 0.35 | 4.92 | 1.66 |\n",
    "| mean p(S2) | 0.83 | 0.73 | 0.52 | 0.72 | 0.54 | 0.53 | 0.72 | 0.50 |\n",
    "| pval | 0.00 | 0.00 | 0.00 | 0.00 | 0.00 | 0.00 | 0.00 | 0.18 |\n",
    "| t-stat | 23.66 | 15.08 | 3.35 | 15.26 | 3.81 | 4.67 | 15.83 | 1.33 |\n",
    "\n",
    "* Notes: \n",
    "1. Parameter recovery of model 3 is good (alpha = 0.87, beta = 0.91, w = 0.82), so reliable\n",
    "2. Model 3 outperforms model 1 in BIC: should focus on model 3 for the following analyses?\n",
    "3. $w$ are higher for model 3 \n",
    "4. It is highly likely that the 3th, 6th, and 8th subject made random choices, based on: 1) low $\\beta$, 2) high AIC/BIC scores, and  3) subjective values of selected options not significantly higher than 0.5 in stage 1. Also, sub 8 did not get any catch trials correct"
   ]
  },
  {
   "cell_type": "code",
   "execution_count": null,
   "metadata": {},
   "outputs": [],
   "source": [
    "# [-0.74  0.    0.04 -0.02 -0.01]\n",
    "# [-0.14 -0.   -0.   -0.07  0.  ]\n",
    "# [-0.13 -0.   -0.01  0.05 -0.02]\n",
    "# [ 0.15  0.    0.01 -0.02 -0.01]\n",
    "# [ 0.44  0.    0.02 -0.04 -0.  ]\n",
    "# [-0.08  0.    0.01  0.01 -0.01]\n",
    "# [ 0.23 -0.   -0.04 -0.05  0.02]\n",
    "# [-0.06 -0.   -0.08  0.01 -0.01]"
   ]
  },
  {
   "cell_type": "markdown",
   "metadata": {},
   "source": [
    "# 1. Learning curve"
   ]
  },
  {
   "cell_type": "code",
   "execution_count": null,
   "metadata": {
    "scrolled": false
   },
   "outputs": [],
   "source": [
    "for i, sub in enumerate(subList):\n",
    "\n",
    "    df = pd.DataFrame(pd.read_csv(sub))\n",
    "\n",
    "\n",
    "    score = np.asarray(df['score'].iloc[-nTotal:])\n",
    "    title = 'Learning curve of subject ' + str(i+1)\n",
    "    plt.title(title)\n",
    "    plt.xlabel('Number of trials')\n",
    "    plt.ylabel('Score')\n",
    "    plt.plot(range(nTotal),score)\n",
    "    plt.show()\n"
   ]
  },
  {
   "cell_type": "markdown",
   "metadata": {},
   "source": [
    "# 2. Do 1st-stage RTs correlate with subjective value difference?"
   ]
  },
  {
   "cell_type": "markdown",
   "metadata": {},
   "source": [
    "## 2-2) Model 3"
   ]
  },
  {
   "cell_type": "code",
   "execution_count": 85,
   "metadata": {
    "scrolled": false
   },
   "outputs": [],
   "source": [
    "# # for i, sub in enumerate(subList):\n",
    "# for i in range(197):\n",
    "# #     rt1, rt2, Qvals_stage1, Qvals_stage2, Qmb_stage1, Qmf_stage1, prevWin, prevChoice1, stim_s1_left, choice1, trialnum = get_data(i)\n",
    "\n",
    "# #     df = pd.DataFrame(pd.read_csv(sub))\n",
    "# #     rt1 = df['rt_1'].iloc[-nTotal:]\n",
    "# #     rt2 = df['rt_2'].iloc[-nTotal:]\n",
    "#     data_filename = 'model1_trialdata_data_sub' + str(i+1) + '.txt'\n",
    "#     value_filename = 'model1_trialdata_value_sub' + str(i+1) + '.txt'\n",
    "#     data_filepath = os.path.join('./trialdata', data_filename)\n",
    "#     value_filepath = os.path.join('./trialdata', value_filename)\n",
    "# #     file = filepath.replace('.csv', '.mat.txt')\n",
    "\n",
    "# #     trial_data = pd.read_csv(file, header=None)\n",
    "    \n",
    "#     trial_data = pd.read_csv(value_filepath, header=None)\n",
    "#     other_data = pd.read_csv(data_filepath, header=None)\n",
    "    \n",
    "#     trialnum = other_data.iloc[:,0]\n",
    "#     prevWin = other_data.iloc[:,1]\n",
    "#     isLeft = other_data.iloc[:,2]\n",
    "#     rt1 = other_data.iloc[:,3]\n",
    "#     rt2 = other_data.iloc[:,4]\n",
    "    \n",
    "#     val_diff = np.abs(trial_data.iloc[:,2] - trial_data.iloc[:,3])\n",
    "    \n",
    "# #     print(Qvals_stage1)\n",
    "# #     val_diff= np.abs(Qvals_stage1[:,0] - Qvals_stage1[:,1])\n",
    "# #     val_diff = np.abs(trial_data.iloc[:,0] - trial_data.iloc[:,1])\n",
    "    \n",
    "# #     val_diff[val_diff==0] = 0.00001\n",
    "    \n",
    "    \n",
    "#     x = val_diff\n",
    "#     y = np.log(rt1[rt2!=-1])\n",
    "    \n",
    "#     slope, intercept = np.polyfit(x,y,1) # linear model adjustmen    \n",
    "    \n",
    "#     # to plot the adjusted model\n",
    "#     x_line = np.linspace(np.min(x), np.max(x), 100)\n",
    "#     y_line = np.polyval([slope, intercept], x_line)    \n",
    "#     plt.plot(x_line, y_line, color = 'red')\n",
    "#     correlation_coef = np.corrcoef(x,y)[0,1]\n",
    "#     plt.annotate('r = '+str(np.round(correlation_coef,2)),\n",
    "#         xy=(1,0),xycoords='axes fraction',\n",
    "#         xytext=(-20, 20), textcoords='offset pixels',\n",
    "#         horizontalalignment='right',\n",
    "#         verticalalignment='bottom')     \n",
    "#     title = 'Subject ' + str(i+1)\n",
    "#     plt.title(title)\n",
    "#     plt.xlabel('Subjective value difference')\n",
    "#     plt.ylabel('log RT')\n",
    "        \n",
    "#     plt.scatter(x,y)\n",
    "#     plt.show()"
   ]
  },
  {
   "cell_type": "markdown",
   "metadata": {},
   "source": [
    "# 3. Do 2nd-stage RTs correlate with subjective value difference?"
   ]
  },
  {
   "cell_type": "markdown",
   "metadata": {},
   "source": [
    "## 3-2) Model 3"
   ]
  },
  {
   "cell_type": "code",
   "execution_count": 88,
   "metadata": {},
   "outputs": [],
   "source": [
    "# malsubjects = [12, 27, 34, 38, 76, 104]\n",
    "malsubjects = [16, 40, 64, 96, 140, 143, 154]\n",
    "valid_subind = pd.read_csv('valid_subind.txt')\n",
    "validind = np.array(valid_subind)"
   ]
  },
  {
   "cell_type": "code",
   "execution_count": 87,
   "metadata": {
    "scrolled": true
   },
   "outputs": [],
   "source": [
    "# for i in range(197):\n",
    "# #     rt1, rt2, Qvals_stage1, Qvals_stage2, Qmb_stage1, Qmf_stage1, prevWin, prevChoice1, stim_s1_left, choice1, trialnum = get_data(i)\n",
    "\n",
    "# #     df = pd.DataFrame(pd.read_csv(sub))\n",
    "# #     rt1 = df['rt_1'].iloc[-nTotal:]\n",
    "# #     rt2 = df['rt_2'].iloc[-nTotal:]\n",
    "#     data_filename = 'model1_trialdata_data_sub' + str(i+1) + '.txt'\n",
    "#     value_filename = 'model1_trialdata_value_sub' + str(i+1) + '.txt'\n",
    "#     data_filepath = os.path.join('./trialdata', data_filename)\n",
    "#     value_filepath = os.path.join('./trialdata', value_filename)\n",
    "# #     file = filepath.replace('.csv', '.mat.txt')\n",
    "\n",
    "# #     trial_data = pd.read_csv(file, header=None)\n",
    "    \n",
    "#     trial_data = pd.read_csv(value_filepath, header=None)\n",
    "#     other_data = pd.read_csv(data_filepath, header=None)\n",
    "    \n",
    "#     trialnum = other_data.iloc[:,0]\n",
    "#     prevWin = other_data.iloc[:,1]\n",
    "#     isLeft = other_data.iloc[:,2]\n",
    "#     rt1 = other_data.iloc[:,3]\n",
    "#     rt2 = other_data.iloc[:,4]\n",
    "#     val_diff = np.abs(trial_data.iloc[:,2] - trial_data.iloc[:,3])\n",
    "\n",
    "#     val_diff[val_diff==0] = 0.00001\n",
    "\n",
    "\n",
    "#     x = val_diff\n",
    "#     y = np.log(rt2[rt2!=-1])\n",
    "\n",
    "#     slope, intercept = np.polyfit(x,y,1) # linear model adjustmen    \n",
    "\n",
    "#     # to plot the adjusted model\n",
    "#     x_line = np.linspace(np.min(x), np.max(x), 100)\n",
    "#     y_line = np.polyval([slope, intercept], x_line)    \n",
    "#     plt.plot(x_line, y_line, color = 'red')\n",
    "#     correlation_coef = np.corrcoef(x,y)[0,1]\n",
    "#     plt.annotate('r = '+str(np.round(correlation_coef,2)),\n",
    "#         xy=(1,0),xycoords='axes fraction',\n",
    "#         xytext=(-20, 20), textcoords='offset pixels',\n",
    "#         horizontalalignment='right',\n",
    "#         verticalalignment='bottom')     \n",
    "#     title = 'Subject ' + str(i+1)\n",
    "#     plt.title(title)\n",
    "#     plt.xlabel('Subjective value difference')\n",
    "#     plt.ylabel('log RT')\n",
    "\n",
    "#     plt.scatter(x,y)\n",
    "#     plt.show()"
   ]
  },
  {
   "cell_type": "markdown",
   "metadata": {},
   "source": [
    "# 4. Regression: MB+MF as subjective value (w * MB + (1-w) * MF)"
   ]
  },
  {
   "cell_type": "markdown",
   "metadata": {},
   "source": [
    "## 4-2) Model 3"
   ]
  },
  {
   "cell_type": "code",
   "execution_count": 89,
   "metadata": {
    "scrolled": false
   },
   "outputs": [
    {
     "name": "stdout",
     "output_type": "stream",
     "text": [
      "-0.04845433174674473\n",
      "0.08257383448174782\n"
     ]
    }
   ],
   "source": [
    "\n",
    "# malsubjects += 1\n",
    "coef_x1 = []\n",
    "R2 = []\n",
    "for i in range(197):\n",
    "    if (i+1 in validind) and (i not in malsubjects):\n",
    "    #     rt1, rt2, Qvals_stage1, Qvals_stage2, Qmb_stage1, Qmf_stage1, prevWin, prevChoice1, stim_s1_left, choice1, trialnum = get_data(i)\n",
    "\n",
    "    #     df = pd.DataFrame(pd.read_csv(sub))\n",
    "    #     rt1 = df['rt_1'].iloc[-nTotal:]\n",
    "    #     rt2 = df['rt_2'].iloc[-nTotal:]\n",
    "        data_filename = 'model1_trialdata_data_sub' + str(i+1) + '.txt'\n",
    "        value_filename = 'model1_trialdata_value_sub' + str(i+1) + '.txt'\n",
    "        data_filepath = os.path.join('./trialdata', data_filename)\n",
    "        value_filepath = os.path.join('./trialdata', value_filename)\n",
    "    #     file = filepath.replace('.csv', '.mat.txt')\n",
    "\n",
    "    #     trial_data = pd.read_csv(file, header=None)\n",
    "\n",
    "        trial_data = pd.read_csv(value_filepath, header=None)\n",
    "        other_data = pd.read_csv(data_filepath, header=None)\n",
    "\n",
    "        trialnum = other_data.iloc[:,0]\n",
    "        prevWin = other_data.iloc[:,1]\n",
    "        isLeft = other_data.iloc[:,2]\n",
    "        rt1 = other_data.iloc[:,3]\n",
    "        rt2 = other_data.iloc[:,4]\n",
    "\n",
    "        x2 = trialnum # regressor 2: trial number \n",
    "        x3 = prevWin # regressor 3: if previous outcome was rewarded or no-reward\n",
    "        x4 = isLeft\n",
    "\n",
    "\n",
    "        val_diff = np.abs(trial_data.iloc[:,0] - trial_data.iloc[:,1])\n",
    "    #     val_diff = trial_data.iloc[:,0] - trial_data.iloc[:,1]\n",
    "\n",
    "        x1 = np.array(val_diff) # regressor of interest: absolute subjective value-difference\n",
    "    #     x3_= np.array(r[rt2!=-1])\n",
    "\n",
    "    #     x4 = np.array(isLeft[rt2!=-1].astype(int)) # regressor 4: which button used (just Left)\n",
    "    #     x5 = np.zeros(len(val_diff)) # regressor 5: experience of each rocket pair\n",
    "    #     x6 = np.zeros(len(val_diff)) # regressor 6: experience of each chosen rocket\n",
    "\n",
    "    #     for j in range(len(val_diff)):\n",
    "    #         x5[j] = np.count_nonzero(current_state_index[:j] == current_state_index[j])\n",
    "    #         x6[j] = np.count_nonzero(choice1[:j] == choice1[j])\n",
    "\n",
    "\n",
    "\n",
    "\n",
    "\n",
    "\n",
    "        x = np.c_[x1,x2,x3,x4]\n",
    "        y = np.array(np.log(rt1[rt2!=-1]))\n",
    "\n",
    "        mlr = LinearRegression()\n",
    "        mlr.fit(x, y)\n",
    "#         print(np.round(mlr.coef_,2), np.round(mlr.score(x,y),2))\n",
    "        coef_x1.append(mlr.coef_[0])\n",
    "        R2.append(mlr.score(x,y))\n",
    "print(np.mean(np.array(coef_x1)))\n",
    "print(np.mean(np.array(R2)))\n"
   ]
  },
  {
   "cell_type": "markdown",
   "metadata": {},
   "source": [
    "## 3) Model 3: signed"
   ]
  },
  {
   "cell_type": "code",
   "execution_count": 90,
   "metadata": {},
   "outputs": [
    {
     "name": "stdout",
     "output_type": "stream",
     "text": [
      "-0.014287434195581261\n",
      "0.08127878601670314\n"
     ]
    }
   ],
   "source": [
    "# malsubjects += 1\n",
    "coef_x1 = []\n",
    "R2 = []\n",
    "for i in range(197):\n",
    "    if (i+1 in validind) and (i not in malsubjects):\n",
    "    #     rt1, rt2, Qvals_stage1, Qvals_stage2, Qmb_stage1, Qmf_stage1, prevWin, prevChoice1, stim_s1_left, choice1, trialnum = get_data(i)\n",
    "\n",
    "    #     df = pd.DataFrame(pd.read_csv(sub))\n",
    "    #     rt1 = df['rt_1'].iloc[-nTotal:]\n",
    "    #     rt2 = df['rt_2'].iloc[-nTotal:]\n",
    "        data_filename = 'model1_trialdata_data_sub' + str(i+1) + '.txt'\n",
    "        value_filename = 'model1_trialdata_value_sub' + str(i+1) + '.txt'\n",
    "        data_filepath = os.path.join('./trialdata', data_filename)\n",
    "        value_filepath = os.path.join('./trialdata', value_filename)\n",
    "    #     file = filepath.replace('.csv', '.mat.txt')\n",
    "\n",
    "    #     trial_data = pd.read_csv(file, header=None)\n",
    "\n",
    "        trial_data = pd.read_csv(value_filepath, header=None)\n",
    "        other_data = pd.read_csv(data_filepath, header=None)\n",
    "\n",
    "        trialnum = other_data.iloc[:,0]\n",
    "        prevWin = other_data.iloc[:,1]\n",
    "        isLeft = other_data.iloc[:,2]\n",
    "        rt1 = other_data.iloc[:,3]\n",
    "        rt2 = other_data.iloc[:,4]\n",
    "\n",
    "        x2 = trialnum # regressor 2: trial number \n",
    "        x3 = prevWin # regressor 3: if previous outcome was rewarded or no-reward\n",
    "        x4 = isLeft\n",
    "\n",
    "\n",
    "        val_diff = trial_data.iloc[:,0] - trial_data.iloc[:,1]\n",
    "    #     val_diff = trial_data.iloc[:,0] - trial_data.iloc[:,1]\n",
    "\n",
    "        x1 = np.array(val_diff) # regressor of interest: absolute subjective value-difference\n",
    "    #     x3_= np.array(r[rt2!=-1])\n",
    "\n",
    "    #     x4 = np.array(isLeft[rt2!=-1].astype(int)) # regressor 4: which button used (just Left)\n",
    "    #     x5 = np.zeros(len(val_diff)) # regressor 5: experience of each rocket pair\n",
    "    #     x6 = np.zeros(len(val_diff)) # regressor 6: experience of each chosen rocket\n",
    "\n",
    "    #     for j in range(len(val_diff)):\n",
    "    #         x5[j] = np.count_nonzero(current_state_index[:j] == current_state_index[j])\n",
    "    #         x6[j] = np.count_nonzero(choice1[:j] == choice1[j])\n",
    "\n",
    "\n",
    "\n",
    "\n",
    "\n",
    "\n",
    "        x = np.c_[x1,x2,x3,x4]\n",
    "        y = np.array(np.log(rt1[rt2!=-1]))\n",
    "\n",
    "        mlr = LinearRegression()\n",
    "        mlr.fit(x, y)\n",
    "#         print(np.round(mlr.coef_,2), np.round(mlr.score(x,y),2))\n",
    "        coef_x1.append(mlr.coef_[0])\n",
    "        R2.append(mlr.score(x,y))\n",
    "print(np.mean(np.array(coef_x1)))\n",
    "print(np.mean(np.array(R2)))\n"
   ]
  },
  {
   "cell_type": "markdown",
   "metadata": {},
   "source": [
    "## 4-5) Model 3 - 2nd stage"
   ]
  },
  {
   "cell_type": "code",
   "execution_count": 92,
   "metadata": {},
   "outputs": [
    {
     "name": "stderr",
     "output_type": "stream",
     "text": [
      "/opt/anaconda3/lib/python3.8/site-packages/pandas/core/series.py:726: RuntimeWarning: divide by zero encountered in log\n",
      "  result = getattr(ufunc, method)(*inputs, **kwargs)\n"
     ]
    },
    {
     "ename": "ValueError",
     "evalue": "Input contains NaN, infinity or a value too large for dtype('float64').",
     "output_type": "error",
     "traceback": [
      "\u001b[0;31m---------------------------------------------------------------------------\u001b[0m",
      "\u001b[0;31mValueError\u001b[0m                                Traceback (most recent call last)",
      "\u001b[0;32m<ipython-input-92-8d049753ff55>\u001b[0m in \u001b[0;36m<module>\u001b[0;34m\u001b[0m\n\u001b[1;32m     54\u001b[0m \u001b[0;34m\u001b[0m\u001b[0m\n\u001b[1;32m     55\u001b[0m         \u001b[0mmlr\u001b[0m \u001b[0;34m=\u001b[0m \u001b[0mLinearRegression\u001b[0m\u001b[0;34m(\u001b[0m\u001b[0;34m)\u001b[0m\u001b[0;34m\u001b[0m\u001b[0;34m\u001b[0m\u001b[0m\n\u001b[0;32m---> 56\u001b[0;31m         \u001b[0mmlr\u001b[0m\u001b[0;34m.\u001b[0m\u001b[0mfit\u001b[0m\u001b[0;34m(\u001b[0m\u001b[0mx\u001b[0m\u001b[0;34m,\u001b[0m \u001b[0my\u001b[0m\u001b[0;34m)\u001b[0m\u001b[0;34m\u001b[0m\u001b[0;34m\u001b[0m\u001b[0m\n\u001b[0m\u001b[1;32m     57\u001b[0m \u001b[0;31m#         print(np.round(mlr.coef_,2), np.round(mlr.score(x,y),2))\u001b[0m\u001b[0;34m\u001b[0m\u001b[0;34m\u001b[0m\u001b[0;34m\u001b[0m\u001b[0m\n\u001b[1;32m     58\u001b[0m         \u001b[0mcoef_x1\u001b[0m\u001b[0;34m.\u001b[0m\u001b[0mappend\u001b[0m\u001b[0;34m(\u001b[0m\u001b[0mmlr\u001b[0m\u001b[0;34m.\u001b[0m\u001b[0mcoef_\u001b[0m\u001b[0;34m[\u001b[0m\u001b[0;36m0\u001b[0m\u001b[0;34m]\u001b[0m\u001b[0;34m)\u001b[0m\u001b[0;34m\u001b[0m\u001b[0;34m\u001b[0m\u001b[0m\n",
      "\u001b[0;32m/opt/anaconda3/lib/python3.8/site-packages/sklearn/linear_model/_base.py\u001b[0m in \u001b[0;36mfit\u001b[0;34m(self, X, y, sample_weight)\u001b[0m\n\u001b[1;32m    503\u001b[0m \u001b[0;34m\u001b[0m\u001b[0m\n\u001b[1;32m    504\u001b[0m         \u001b[0mn_jobs_\u001b[0m \u001b[0;34m=\u001b[0m \u001b[0mself\u001b[0m\u001b[0;34m.\u001b[0m\u001b[0mn_jobs\u001b[0m\u001b[0;34m\u001b[0m\u001b[0;34m\u001b[0m\u001b[0m\n\u001b[0;32m--> 505\u001b[0;31m         X, y = self._validate_data(X, y, accept_sparse=['csr', 'csc', 'coo'],\n\u001b[0m\u001b[1;32m    506\u001b[0m                                    y_numeric=True, multi_output=True)\n\u001b[1;32m    507\u001b[0m \u001b[0;34m\u001b[0m\u001b[0m\n",
      "\u001b[0;32m/opt/anaconda3/lib/python3.8/site-packages/sklearn/base.py\u001b[0m in \u001b[0;36m_validate_data\u001b[0;34m(self, X, y, reset, validate_separately, **check_params)\u001b[0m\n\u001b[1;32m    430\u001b[0m                 \u001b[0my\u001b[0m \u001b[0;34m=\u001b[0m \u001b[0mcheck_array\u001b[0m\u001b[0;34m(\u001b[0m\u001b[0my\u001b[0m\u001b[0;34m,\u001b[0m \u001b[0;34m**\u001b[0m\u001b[0mcheck_y_params\u001b[0m\u001b[0;34m)\u001b[0m\u001b[0;34m\u001b[0m\u001b[0;34m\u001b[0m\u001b[0m\n\u001b[1;32m    431\u001b[0m             \u001b[0;32melse\u001b[0m\u001b[0;34m:\u001b[0m\u001b[0;34m\u001b[0m\u001b[0;34m\u001b[0m\u001b[0m\n\u001b[0;32m--> 432\u001b[0;31m                 \u001b[0mX\u001b[0m\u001b[0;34m,\u001b[0m \u001b[0my\u001b[0m \u001b[0;34m=\u001b[0m \u001b[0mcheck_X_y\u001b[0m\u001b[0;34m(\u001b[0m\u001b[0mX\u001b[0m\u001b[0;34m,\u001b[0m \u001b[0my\u001b[0m\u001b[0;34m,\u001b[0m \u001b[0;34m**\u001b[0m\u001b[0mcheck_params\u001b[0m\u001b[0;34m)\u001b[0m\u001b[0;34m\u001b[0m\u001b[0;34m\u001b[0m\u001b[0m\n\u001b[0m\u001b[1;32m    433\u001b[0m             \u001b[0mout\u001b[0m \u001b[0;34m=\u001b[0m \u001b[0mX\u001b[0m\u001b[0;34m,\u001b[0m \u001b[0my\u001b[0m\u001b[0;34m\u001b[0m\u001b[0;34m\u001b[0m\u001b[0m\n\u001b[1;32m    434\u001b[0m \u001b[0;34m\u001b[0m\u001b[0m\n",
      "\u001b[0;32m/opt/anaconda3/lib/python3.8/site-packages/sklearn/utils/validation.py\u001b[0m in \u001b[0;36minner_f\u001b[0;34m(*args, **kwargs)\u001b[0m\n\u001b[1;32m     70\u001b[0m                           FutureWarning)\n\u001b[1;32m     71\u001b[0m         \u001b[0mkwargs\u001b[0m\u001b[0;34m.\u001b[0m\u001b[0mupdate\u001b[0m\u001b[0;34m(\u001b[0m\u001b[0;34m{\u001b[0m\u001b[0mk\u001b[0m\u001b[0;34m:\u001b[0m \u001b[0marg\u001b[0m \u001b[0;32mfor\u001b[0m \u001b[0mk\u001b[0m\u001b[0;34m,\u001b[0m \u001b[0marg\u001b[0m \u001b[0;32min\u001b[0m \u001b[0mzip\u001b[0m\u001b[0;34m(\u001b[0m\u001b[0msig\u001b[0m\u001b[0;34m.\u001b[0m\u001b[0mparameters\u001b[0m\u001b[0;34m,\u001b[0m \u001b[0margs\u001b[0m\u001b[0;34m)\u001b[0m\u001b[0;34m}\u001b[0m\u001b[0;34m)\u001b[0m\u001b[0;34m\u001b[0m\u001b[0;34m\u001b[0m\u001b[0m\n\u001b[0;32m---> 72\u001b[0;31m         \u001b[0;32mreturn\u001b[0m \u001b[0mf\u001b[0m\u001b[0;34m(\u001b[0m\u001b[0;34m**\u001b[0m\u001b[0mkwargs\u001b[0m\u001b[0;34m)\u001b[0m\u001b[0;34m\u001b[0m\u001b[0;34m\u001b[0m\u001b[0m\n\u001b[0m\u001b[1;32m     73\u001b[0m     \u001b[0;32mreturn\u001b[0m \u001b[0minner_f\u001b[0m\u001b[0;34m\u001b[0m\u001b[0;34m\u001b[0m\u001b[0m\n\u001b[1;32m     74\u001b[0m \u001b[0;34m\u001b[0m\u001b[0m\n",
      "\u001b[0;32m/opt/anaconda3/lib/python3.8/site-packages/sklearn/utils/validation.py\u001b[0m in \u001b[0;36mcheck_X_y\u001b[0;34m(X, y, accept_sparse, accept_large_sparse, dtype, order, copy, force_all_finite, ensure_2d, allow_nd, multi_output, ensure_min_samples, ensure_min_features, y_numeric, estimator)\u001b[0m\n\u001b[1;32m    802\u001b[0m                     estimator=estimator)\n\u001b[1;32m    803\u001b[0m     \u001b[0;32mif\u001b[0m \u001b[0mmulti_output\u001b[0m\u001b[0;34m:\u001b[0m\u001b[0;34m\u001b[0m\u001b[0;34m\u001b[0m\u001b[0m\n\u001b[0;32m--> 804\u001b[0;31m         y = check_array(y, accept_sparse='csr', force_all_finite=True,\n\u001b[0m\u001b[1;32m    805\u001b[0m                         ensure_2d=False, dtype=None)\n\u001b[1;32m    806\u001b[0m     \u001b[0;32melse\u001b[0m\u001b[0;34m:\u001b[0m\u001b[0;34m\u001b[0m\u001b[0;34m\u001b[0m\u001b[0m\n",
      "\u001b[0;32m/opt/anaconda3/lib/python3.8/site-packages/sklearn/utils/validation.py\u001b[0m in \u001b[0;36minner_f\u001b[0;34m(*args, **kwargs)\u001b[0m\n\u001b[1;32m     70\u001b[0m                           FutureWarning)\n\u001b[1;32m     71\u001b[0m         \u001b[0mkwargs\u001b[0m\u001b[0;34m.\u001b[0m\u001b[0mupdate\u001b[0m\u001b[0;34m(\u001b[0m\u001b[0;34m{\u001b[0m\u001b[0mk\u001b[0m\u001b[0;34m:\u001b[0m \u001b[0marg\u001b[0m \u001b[0;32mfor\u001b[0m \u001b[0mk\u001b[0m\u001b[0;34m,\u001b[0m \u001b[0marg\u001b[0m \u001b[0;32min\u001b[0m \u001b[0mzip\u001b[0m\u001b[0;34m(\u001b[0m\u001b[0msig\u001b[0m\u001b[0;34m.\u001b[0m\u001b[0mparameters\u001b[0m\u001b[0;34m,\u001b[0m \u001b[0margs\u001b[0m\u001b[0;34m)\u001b[0m\u001b[0;34m}\u001b[0m\u001b[0;34m)\u001b[0m\u001b[0;34m\u001b[0m\u001b[0;34m\u001b[0m\u001b[0m\n\u001b[0;32m---> 72\u001b[0;31m         \u001b[0;32mreturn\u001b[0m \u001b[0mf\u001b[0m\u001b[0;34m(\u001b[0m\u001b[0;34m**\u001b[0m\u001b[0mkwargs\u001b[0m\u001b[0;34m)\u001b[0m\u001b[0;34m\u001b[0m\u001b[0;34m\u001b[0m\u001b[0m\n\u001b[0m\u001b[1;32m     73\u001b[0m     \u001b[0;32mreturn\u001b[0m \u001b[0minner_f\u001b[0m\u001b[0;34m\u001b[0m\u001b[0;34m\u001b[0m\u001b[0m\n\u001b[1;32m     74\u001b[0m \u001b[0;34m\u001b[0m\u001b[0m\n",
      "\u001b[0;32m/opt/anaconda3/lib/python3.8/site-packages/sklearn/utils/validation.py\u001b[0m in \u001b[0;36mcheck_array\u001b[0;34m(array, accept_sparse, accept_large_sparse, dtype, order, copy, force_all_finite, ensure_2d, allow_nd, ensure_min_samples, ensure_min_features, estimator)\u001b[0m\n\u001b[1;32m    642\u001b[0m \u001b[0;34m\u001b[0m\u001b[0m\n\u001b[1;32m    643\u001b[0m         \u001b[0;32mif\u001b[0m \u001b[0mforce_all_finite\u001b[0m\u001b[0;34m:\u001b[0m\u001b[0;34m\u001b[0m\u001b[0;34m\u001b[0m\u001b[0m\n\u001b[0;32m--> 644\u001b[0;31m             _assert_all_finite(array,\n\u001b[0m\u001b[1;32m    645\u001b[0m                                allow_nan=force_all_finite == 'allow-nan')\n\u001b[1;32m    646\u001b[0m \u001b[0;34m\u001b[0m\u001b[0m\n",
      "\u001b[0;32m/opt/anaconda3/lib/python3.8/site-packages/sklearn/utils/validation.py\u001b[0m in \u001b[0;36m_assert_all_finite\u001b[0;34m(X, allow_nan, msg_dtype)\u001b[0m\n\u001b[1;32m     94\u001b[0m                 not allow_nan and not np.isfinite(X).all()):\n\u001b[1;32m     95\u001b[0m             \u001b[0mtype_err\u001b[0m \u001b[0;34m=\u001b[0m \u001b[0;34m'infinity'\u001b[0m \u001b[0;32mif\u001b[0m \u001b[0mallow_nan\u001b[0m \u001b[0;32melse\u001b[0m \u001b[0;34m'NaN, infinity'\u001b[0m\u001b[0;34m\u001b[0m\u001b[0;34m\u001b[0m\u001b[0m\n\u001b[0;32m---> 96\u001b[0;31m             raise ValueError(\n\u001b[0m\u001b[1;32m     97\u001b[0m                     \u001b[0mmsg_err\u001b[0m\u001b[0;34m.\u001b[0m\u001b[0mformat\u001b[0m\u001b[0;34m\u001b[0m\u001b[0;34m\u001b[0m\u001b[0m\n\u001b[1;32m     98\u001b[0m                     (type_err,\n",
      "\u001b[0;31mValueError\u001b[0m: Input contains NaN, infinity or a value too large for dtype('float64')."
     ]
    }
   ],
   "source": [
    "# malsubjects += 1\n",
    "coef_x1 = []\n",
    "R2 = []\n",
    "for i in range(197):\n",
    "    if (i+1 in validind) and (i not in malsubjects):\n",
    "    #     rt1, rt2, Qvals_stage1, Qvals_stage2, Qmb_stage1, Qmf_stage1, prevWin, prevChoice1, stim_s1_left, choice1, trialnum = get_data(i)\n",
    "\n",
    "    #     df = pd.DataFrame(pd.read_csv(sub))\n",
    "    #     rt1 = df['rt_1'].iloc[-nTotal:]\n",
    "    #     rt2 = df['rt_2'].iloc[-nTotal:]\n",
    "        data_filename = 'model1_trialdata_data_sub' + str(i+1) + '.txt'\n",
    "        value_filename = 'model1_trialdata_value_sub' + str(i+1) + '.txt'\n",
    "        data_filepath = os.path.join('./trialdata', data_filename)\n",
    "        value_filepath = os.path.join('./trialdata', value_filename)\n",
    "    #     file = filepath.replace('.csv', '.mat.txt')\n",
    "\n",
    "    #     trial_data = pd.read_csv(file, header=None)\n",
    "\n",
    "        trial_data = pd.read_csv(value_filepath, header=None)\n",
    "        other_data = pd.read_csv(data_filepath, header=None)\n",
    "\n",
    "        trialnum = other_data.iloc[:,0]\n",
    "        prevWin = other_data.iloc[:,1]\n",
    "        isLeft = other_data.iloc[:,2]\n",
    "        rt1 = other_data.iloc[:,3]\n",
    "        rt2 = other_data.iloc[:,4]\n",
    "\n",
    "        x2 = trialnum # regressor 2: trial number \n",
    "        x3 = prevWin # regressor 3: if previous outcome was rewarded or no-reward\n",
    "        x4 = isLeft\n",
    "\n",
    "\n",
    "        val_diff = np.abs(trial_data.iloc[:,2] - trial_data.iloc[:,3])\n",
    "    #     val_diff = trial_data.iloc[:,0] - trial_data.iloc[:,1]\n",
    "\n",
    "        x1 = np.array(val_diff) # regressor of interest: absolute subjective value-difference\n",
    "    #     x3_= np.array(r[rt2!=-1])\n",
    "\n",
    "    #     x4 = np.array(isLeft[rt2!=-1].astype(int)) # regressor 4: which button used (just Left)\n",
    "    #     x5 = np.zeros(len(val_diff)) # regressor 5: experience of each rocket pair\n",
    "    #     x6 = np.zeros(len(val_diff)) # regressor 6: experience of each chosen rocket\n",
    "\n",
    "    #     for j in range(len(val_diff)):\n",
    "    #         x5[j] = np.count_nonzero(current_state_index[:j] == current_state_index[j])\n",
    "    #         x6[j] = np.count_nonzero(choice1[:j] == choice1[j])\n",
    "\n",
    "\n",
    "\n",
    "\n",
    "\n",
    "\n",
    "        x = np.c_[x1,x2,x3,x4]\n",
    "        y = np.array(np.log(rt2[rt2!=-1]))\n",
    "\n",
    "        mlr = LinearRegression()\n",
    "        mlr.fit(x, y)\n",
    "#         print(np.round(mlr.coef_,2), np.round(mlr.score(x,y),2))\n",
    "        coef_x1.append(mlr.coef_[0])\n",
    "        R2.append(mlr.score(x,y))\n",
    "print(np.mean(np.array(coef_x1)))\n",
    "print(np.mean(np.array(R2)))\n"
   ]
  },
  {
   "cell_type": "markdown",
   "metadata": {},
   "source": [
    "# 5. Regression: just MB as subjective value"
   ]
  },
  {
   "cell_type": "markdown",
   "metadata": {},
   "source": [
    "## 5-2) Model 3"
   ]
  },
  {
   "cell_type": "code",
   "execution_count": 101,
   "metadata": {},
   "outputs": [
    {
     "name": "stdout",
     "output_type": "stream",
     "text": [
      "0.016329916565145843\n",
      "0.08113695103138277\n"
     ]
    }
   ],
   "source": [
    "MB_coef_x1 = []\n",
    "MB_R2 = []\n",
    "\n",
    "for i in range(197):\n",
    "    if (i+1 in validind) and (i not in malsubjects):\n",
    "\n",
    "        data_filename = 'model1_trialdata_data_sub' + str(i+1) + '.txt'\n",
    "        value_filename = 'model1_trialdata_value_sub' + str(i+1) + '.txt'\n",
    "        data_filepath = os.path.join('./trialdata', data_filename)\n",
    "        value_filepath = os.path.join('./trialdata', value_filename)\n",
    "\n",
    "        trial_data = pd.read_csv(value_filepath, header=None)\n",
    "        other_data = pd.read_csv(data_filepath, header=None)\n",
    "\n",
    "        trialnum = other_data.iloc[:,0]\n",
    "        prevWin = other_data.iloc[:,1]\n",
    "        isLeft = other_data.iloc[:,2]\n",
    "        \n",
    "        prevWin[0] = 0\n",
    "        \n",
    "        rt1 = other_data.iloc[:,3]\n",
    "        rt2 = other_data.iloc[:,4]\n",
    "\n",
    "        x2 = trialnum # regressor 2: trial number \n",
    "        x3 = prevWin # regressor 3: if previous outcome was rewarded or no-reward\n",
    "        x4 = isLeft\n",
    "        val_diff = np.abs(trial_data.iloc[:,4] - trial_data.iloc[:,5])\n",
    "    #     val_diff = trial_data.iloc[:,8] - trial_data.iloc[:,9]\n",
    "\n",
    "        x1 = np.array(val_diff) # regressor of interest: absolute subjective value-difference\n",
    "        x = np.c_[x1,x2,x3,x4]\n",
    "#         y = np.array(rt1[rt2!=-1])\n",
    "        y = np.array(np.log(rt1))\n",
    "\n",
    "        mlr = LinearRegression()\n",
    "        mlr.fit(x, y)\n",
    "#         print(np.round(mlr.coef_,2), np.round(mlr.score(x,y),2))\n",
    "        MB_coef_x1.append(mlr.coef_[0])\n",
    "        MB_R2.append(mlr.score(x,y))\n",
    "        \n",
    "#         if np.abs(mlr.coef_[0]) > 100:\n",
    "#             print('Subject {} is suspicious'.format(i))\n",
    "#             print(x1)\n",
    "print(np.mean(np.array(MB_coef_x1)))\n",
    "print(np.mean(np.array(MB_R2)))\n"
   ]
  },
  {
   "cell_type": "markdown",
   "metadata": {},
   "source": [
    "## 5-3) Model 3: Signed subjective value difference"
   ]
  },
  {
   "cell_type": "code",
   "execution_count": 132,
   "metadata": {},
   "outputs": [
    {
     "name": "stdout",
     "output_type": "stream",
     "text": [
      "0.05975991000733802\n",
      "0.08044501248465963\n"
     ]
    },
    {
     "data": {
      "text/plain": [
       "[array([1.7445e-09]),\n",
       " array([1.]),\n",
       " array([0.63071]),\n",
       " array([0.62425]),\n",
       " array([1.]),\n",
       " array([2.7582e-08]),\n",
       " array([0.51009]),\n",
       " array([1.1095e-07]),\n",
       " array([1.]),\n",
       " array([1.2607e-08]),\n",
       " array([0.68838]),\n",
       " array([2.6245e-09]),\n",
       " array([0.51906]),\n",
       " array([3.0716e-09]),\n",
       " array([0.34469]),\n",
       " array([8.395e-09]),\n",
       " array([0.3746]),\n",
       " array([0.36426]),\n",
       " array([2.9652e-09]),\n",
       " array([1.3557e-07]),\n",
       " array([3.0774e-09]),\n",
       " array([0.79673]),\n",
       " array([0.00091324]),\n",
       " array([0.44467]),\n",
       " array([0.11099]),\n",
       " array([0.57623]),\n",
       " array([3.1046e-08]),\n",
       " array([0.92376]),\n",
       " array([2.7522e-09]),\n",
       " array([3.9616e-09]),\n",
       " array([1.6844e-09]),\n",
       " array([1.7141e-08]),\n",
       " array([0.13174]),\n",
       " array([4.915e-09]),\n",
       " array([0.7232]),\n",
       " array([1.0908e-07]),\n",
       " array([0.5897]),\n",
       " array([0.56643]),\n",
       " array([0.78187]),\n",
       " array([5.1358e-08]),\n",
       " array([0.61798]),\n",
       " array([0.90983]),\n",
       " array([1.4131e-08]),\n",
       " array([5.1581e-09]),\n",
       " array([7.2184e-09]),\n",
       " array([4.7049e-09]),\n",
       " array([0.77379]),\n",
       " array([0.13421]),\n",
       " array([0.62908]),\n",
       " array([0.33224]),\n",
       " array([0.37645]),\n",
       " array([0.12976]),\n",
       " array([0.9939]),\n",
       " array([4.8922e-09]),\n",
       " array([1.7611e-08]),\n",
       " array([0.12642]),\n",
       " array([0.90969]),\n",
       " array([0.092839]),\n",
       " array([1.5948e-07]),\n",
       " array([0.083955]),\n",
       " array([2.0133e-09]),\n",
       " array([0.18239]),\n",
       " array([0.9061]),\n",
       " array([6.0692e-09]),\n",
       " array([4.9329e-09]),\n",
       " array([5.7762e-09]),\n",
       " array([0.26728]),\n",
       " array([1.]),\n",
       " array([0.68609]),\n",
       " array([0.77323]),\n",
       " array([2.8207e-09]),\n",
       " array([0.13627]),\n",
       " array([0.34728]),\n",
       " array([7.1758e-09]),\n",
       " array([0.66528]),\n",
       " array([0.78127]),\n",
       " array([2.0642e-08]),\n",
       " array([3.6064e-09]),\n",
       " array([0.77918]),\n",
       " array([0.23502]),\n",
       " array([0.9053]),\n",
       " array([2.6819e-09]),\n",
       " array([2.4062e-08]),\n",
       " array([3.7601e-07]),\n",
       " array([3.1262e-09]),\n",
       " array([0.22474]),\n",
       " array([0.47321]),\n",
       " array([0.83084]),\n",
       " array([0.79808]),\n",
       " array([0.66428]),\n",
       " array([0.09151]),\n",
       " array([1.]),\n",
       " array([0.36505]),\n",
       " array([0.73053]),\n",
       " array([1.1992e-09]),\n",
       " array([2.6919e-09]),\n",
       " array([0.27608]),\n",
       " array([0.4661]),\n",
       " array([1.2669e-09]),\n",
       " array([1.6082e-09]),\n",
       " array([1.8136e-09]),\n",
       " array([1.0424e-09]),\n",
       " array([0.69845]),\n",
       " array([1.4015e-08]),\n",
       " array([0.11065]),\n",
       " array([0.5531]),\n",
       " array([0.59642]),\n",
       " array([3.0993e-08]),\n",
       " array([5.5426e-09]),\n",
       " array([0.81355]),\n",
       " array([2.9617e-09]),\n",
       " array([2.2437e-09]),\n",
       " array([6.9338e-09]),\n",
       " array([6.4094e-08]),\n",
       " array([0.58004]),\n",
       " array([0.49558]),\n",
       " array([0.76391]),\n",
       " array([0.45297]),\n",
       " array([3.8911e-08]),\n",
       " array([1.]),\n",
       " array([0.43279]),\n",
       " array([4.857e-08]),\n",
       " array([1.7372e-08]),\n",
       " array([2.7984e-09]),\n",
       " array([0.74396]),\n",
       " array([3.218e-09]),\n",
       " array([0.29456]),\n",
       " array([0.68155]),\n",
       " array([2.6145e-09]),\n",
       " array([7.4252e-08]),\n",
       " array([0.1085]),\n",
       " array([8.4206e-09]),\n",
       " array([5.6202e-08]),\n",
       " array([6.3967e-09]),\n",
       " array([0.1477]),\n",
       " array([2.5092e-09]),\n",
       " array([3.0281e-08]),\n",
       " array([1.4561e-06]),\n",
       " array([0.20611])]"
      ]
     },
     "execution_count": 132,
     "metadata": {},
     "output_type": "execute_result"
    }
   ],
   "source": [
    "MB_coef_x1_sign = []\n",
    "MB_R2_sign = []\n",
    "w0=[]\n",
    "w_file = 'w.txt'\n",
    "w = pd.read_csv(w_file,header=None)\n",
    "w = np.asarray(w)\n",
    "for i in range(197):\n",
    "    if (i+1 in validind) and (i not in malsubjects):\n",
    "\n",
    "        data_filename = 'model1_trialdata_data_sub' + str(i+1) + '.txt'\n",
    "        value_filename = 'model1_trialdata_value_sub' + str(i+1) + '.txt'\n",
    "        \n",
    "        data_filepath = os.path.join('./trialdata', data_filename)\n",
    "        value_filepath = os.path.join('./trialdata', value_filename)\n",
    "#         w_filepath = \n",
    "        trial_data = pd.read_csv(value_filepath, header=None)\n",
    "        other_data = pd.read_csv(data_filepath, header=None)\n",
    "        \n",
    "        w0.append(w[i])\n",
    "        trialnum = other_data.iloc[:,0]\n",
    "        prevWin = other_data.iloc[:,1]\n",
    "        isLeft = other_data.iloc[:,2]\n",
    "        \n",
    "        prevWin[0] = 0\n",
    "        \n",
    "        rt1 = other_data.iloc[:,3]\n",
    "        rt2 = other_data.iloc[:,4]\n",
    "\n",
    "        x2 = trialnum # regressor 2: trial number \n",
    "        x3 = prevWin # regressor 3: if previous outcome was rewarded or no-reward\n",
    "        x4 = isLeft\n",
    "        val_diff = trial_data.iloc[:,4] - trial_data.iloc[:,5]\n",
    "\n",
    "        x1 = np.array(val_diff) # regressor of interest: absolute subjective value-difference\n",
    "        x = np.c_[x1,x2,x3,x4]\n",
    "#         y = np.array(rt1[rt2!=-1])\n",
    "        y = np.array(np.log(rt1))\n",
    "\n",
    "        mlr = LinearRegression()\n",
    "        mlr.fit(x, y)\n",
    "#         print(np.round(mlr.coef_,2), np.round(mlr.score(x,y),2))\n",
    "        MB_coef_x1_sign.append(mlr.coef_[0])\n",
    "        MB_R2_sign.append(mlr.score(x,y))\n",
    "        \n",
    "#         if np.abs(mlr.coef_[0]) > 100:\n",
    "#             print('Subject {} is suspicious'.format(i))\n",
    "#             print(x1)\n",
    "print(np.mean(np.array(MB_coef_x1_sign)))\n",
    "print(np.mean(np.array(MB_R2_sign)))\n",
    "\n",
    "w0"
   ]
  },
  {
   "cell_type": "markdown",
   "metadata": {},
   "source": [
    "# 6. Regression: just MF as subjective value"
   ]
  },
  {
   "cell_type": "markdown",
   "metadata": {},
   "source": [
    "## 6-2) Model 3"
   ]
  },
  {
   "cell_type": "code",
   "execution_count": 99,
   "metadata": {},
   "outputs": [
    {
     "name": "stdout",
     "output_type": "stream",
     "text": [
      "-0.041077949241828414\n",
      "0.08149089936022527\n"
     ]
    }
   ],
   "source": [
    "MF_coef_x1 = []\n",
    "MF_R2 = []\n",
    "\n",
    "for i in range(197):\n",
    "    if (i+1 in validind) and (i not in malsubjects):\n",
    "\n",
    "        data_filename = 'model1_trialdata_data_sub' + str(i+1) + '.txt'\n",
    "        value_filename = 'model1_trialdata_value_sub' + str(i+1) + '.txt'\n",
    "        data_filepath = os.path.join('./trialdata', data_filename)\n",
    "        value_filepath = os.path.join('./trialdata', value_filename)\n",
    "\n",
    "        trial_data = pd.read_csv(value_filepath, header=None)\n",
    "        other_data = pd.read_csv(data_filepath, header=None)\n",
    "\n",
    "        trialnum = other_data.iloc[:,0]\n",
    "        prevWin = other_data.iloc[:,1]\n",
    "        isLeft = other_data.iloc[:,2]\n",
    "        \n",
    "        prevWin[0] = 0\n",
    "        \n",
    "        rt1 = other_data.iloc[:,3]\n",
    "        rt2 = other_data.iloc[:,4]\n",
    "\n",
    "        x2 = trialnum # regressor 2: trial number \n",
    "        x3 = prevWin # regressor 3: if previous outcome was rewarded or no-reward\n",
    "        x4 = isLeft\n",
    "        val_diff = np.abs(trial_data.iloc[:,6] - trial_data.iloc[:,7])\n",
    "    #     val_diff = trial_data.iloc[:,8] - trial_data.iloc[:,9]\n",
    "\n",
    "        x1 = np.array(val_diff) # regressor of interest: absolute subjective value-difference\n",
    "        x = np.c_[x1,x2,x3,x4]\n",
    "#         y = np.array(rt1[rt2!=-1])\n",
    "        y = np.array(np.log(rt1))\n",
    "\n",
    "        mlr = LinearRegression()\n",
    "        mlr.fit(x, y)\n",
    "#         print(np.round(mlr.coef_,2), np.round(mlr.score(x,y),2))\n",
    "        MF_coef_x1.append(mlr.coef_[0])\n",
    "        MF_R2.append(mlr.score(x,y))\n",
    "        \n",
    "#         if np.abs(mlr.coef_[0]) > 100:\n",
    "#             print('Subject {} is suspicious'.format(i))\n",
    "#             print(x1)\n",
    "print(np.mean(np.array(MF_coef_x1)))\n",
    "print(np.mean(np.array(MF_R2)))"
   ]
  },
  {
   "cell_type": "markdown",
   "metadata": {},
   "source": [
    "## 6-3) Signed subjective value difference"
   ]
  },
  {
   "cell_type": "code",
   "execution_count": 100,
   "metadata": {},
   "outputs": [
    {
     "name": "stdout",
     "output_type": "stream",
     "text": [
      "-0.022127883950419428\n",
      "0.08112484486898083\n"
     ]
    }
   ],
   "source": [
    "MF_coef_x1_sign = []\n",
    "MF_R2_sign = []\n",
    "\n",
    "for i in range(197):\n",
    "    if (i+1 in validind) and (i not in malsubjects):\n",
    "\n",
    "        data_filename = 'model1_trialdata_data_sub' + str(i+1) + '.txt'\n",
    "        value_filename = 'model1_trialdata_value_sub' + str(i+1) + '.txt'\n",
    "        data_filepath = os.path.join('./trialdata', data_filename)\n",
    "        value_filepath = os.path.join('./trialdata', value_filename)\n",
    "\n",
    "        trial_data = pd.read_csv(value_filepath, header=None)\n",
    "        other_data = pd.read_csv(data_filepath, header=None)\n",
    "\n",
    "        trialnum = other_data.iloc[:,0]\n",
    "        prevWin = other_data.iloc[:,1]\n",
    "        isLeft = other_data.iloc[:,2]\n",
    "        \n",
    "        prevWin[0] = 0\n",
    "        \n",
    "        rt1 = other_data.iloc[:,3]\n",
    "        rt2 = other_data.iloc[:,4]\n",
    "\n",
    "        x2 = trialnum # regressor 2: trial number \n",
    "        x3 = prevWin # regressor 3: if previous outcome was rewarded or no-reward\n",
    "        x4 = isLeft\n",
    "        val_diff = trial_data.iloc[:,6] - trial_data.iloc[:,7]\n",
    "    #     val_diff = trial_data.iloc[:,8] - trial_data.iloc[:,9]\n",
    "\n",
    "        x1 = np.array(val_diff) # regressor of interest: absolute subjective value-difference\n",
    "        x = np.c_[x1,x2,x3,x4]\n",
    "#         y = np.array(rt1[rt2!=-1])\n",
    "        y = np.array(np.log(rt1))\n",
    "\n",
    "        mlr = LinearRegression()\n",
    "        mlr.fit(x, y)\n",
    "#         print(np.round(mlr.coef_,2), np.round(mlr.score(x,y),2))\n",
    "        MF_coef_x1_sign.append(mlr.coef_[0])\n",
    "        MF_R2_sign.append(mlr.score(x,y))\n",
    "        \n",
    "#         if np.abs(mlr.coef_[0]) > 100:\n",
    "#             print('Subject {} is suspicious'.format(i))\n",
    "#             print(x1)\n",
    "print(np.mean(np.array(MF_coef_x1_sign)))\n",
    "print(np.mean(np.array(MF_R2_sign)))"
   ]
  },
  {
   "cell_type": "code",
   "execution_count": 105,
   "metadata": {},
   "outputs": [],
   "source": [
    "# np.hstack((np.array(MB_coef_x1), np.array(MF_coef_x1)))"
   ]
  },
  {
   "cell_type": "code",
   "execution_count": 102,
   "metadata": {},
   "outputs": [
    {
     "data": {
      "text/plain": [
       "-12.95077412871601"
      ]
     },
     "execution_count": 102,
     "metadata": {},
     "output_type": "execute_result"
    }
   ],
   "source": [
    "ratio = np.array(MB_coef_x1)/np.array(MF_coef_x1)\n",
    "# ratio\n",
    "np.mean(ratio)"
   ]
  },
  {
   "cell_type": "code",
   "execution_count": 109,
   "metadata": {
    "scrolled": true
   },
   "outputs": [
    {
     "data": {
      "text/plain": [
       "0.016329916565145843"
      ]
     },
     "execution_count": 109,
     "metadata": {},
     "output_type": "execute_result"
    }
   ],
   "source": [
    "np.mean(MB_coef_x1)"
   ]
  },
  {
   "cell_type": "code",
   "execution_count": 118,
   "metadata": {},
   "outputs": [
    {
     "data": {
      "text/plain": [
       "-0.041077949241828414"
      ]
     },
     "execution_count": 118,
     "metadata": {},
     "output_type": "execute_result"
    }
   ],
   "source": [
    "np.mean(MF_coef_x1)"
   ]
  },
  {
   "cell_type": "code",
   "execution_count": 121,
   "metadata": {},
   "outputs": [],
   "source": [
    "import scipy"
   ]
  },
  {
   "cell_type": "code",
   "execution_count": 124,
   "metadata": {},
   "outputs": [],
   "source": [
    "t,p = scipy.stats.ttest_ind(MB_coef_x1,MF_coef_x1)"
   ]
  },
  {
   "cell_type": "code",
   "execution_count": 125,
   "metadata": {},
   "outputs": [
    {
     "data": {
      "text/plain": [
       "0.7210477881038444"
      ]
     },
     "execution_count": 125,
     "metadata": {},
     "output_type": "execute_result"
    }
   ],
   "source": [
    "t"
   ]
  },
  {
   "cell_type": "code",
   "execution_count": 126,
   "metadata": {},
   "outputs": [
    {
     "data": {
      "text/plain": [
       "0.47149042286193166"
      ]
     },
     "execution_count": 126,
     "metadata": {},
     "output_type": "execute_result"
    }
   ],
   "source": [
    "p"
   ]
  },
  {
   "cell_type": "code",
   "execution_count": 117,
   "metadata": {},
   "outputs": [
    {
     "data": {
      "text/plain": [
       "-12.95077412871601"
      ]
     },
     "execution_count": 117,
     "metadata": {},
     "output_type": "execute_result"
    }
   ],
   "source": [
    "np.mean(np.array(MB_coef_x1)/np.array(MF_coef_x1))"
   ]
  },
  {
   "cell_type": "code",
   "execution_count": 110,
   "metadata": {},
   "outputs": [
    {
     "data": {
      "text/plain": [
       "(array([  1.,   0.,   0.,   1.,   1.,  14., 100.,  16.,   5.,   1.]),\n",
       " array([-6.23845739, -5.27254948, -4.30664156, -3.34073365, -2.37482574,\n",
       "        -1.40891782, -0.44300991,  0.522898  ,  1.48880591,  2.45471383,\n",
       "         3.42062174]),\n",
       " <BarContainer object of 10 artists>)"
      ]
     },
     "execution_count": 110,
     "metadata": {},
     "output_type": "execute_result"
    },
    {
     "data": {
      "image/png": "[encoded data removed]",
      "text/plain": [
       "<Figure size 432x288 with 1 Axes>"
      ]
     },
     "metadata": {
      "needs_background": "light"
     },
     "output_type": "display_data"
    }
   ],
   "source": [
    "plt.hist(MB_coef_x1)"
   ]
  },
  {
   "cell_type": "code",
   "execution_count": 111,
   "metadata": {},
   "outputs": [
    {
     "data": {
      "text/plain": [
       "(array([ 1.,  0.,  0.,  1.,  2., 28., 87., 14.,  3.,  3.]),\n",
       " array([-2.59438373, -2.19245529, -1.79052686, -1.38859843, -0.98666999,\n",
       "        -0.58474156, -0.18281313,  0.2191153 ,  0.62104374,  1.02297217,\n",
       "         1.4249006 ]),\n",
       " <BarContainer object of 10 artists>)"
      ]
     },
     "execution_count": 111,
     "metadata": {},
     "output_type": "execute_result"
    },
    {
     "data": {
      "image/png": "[encoded data removed]",
      "text/plain": [
       "<Figure size 432x288 with 1 Axes>"
      ]
     },
     "metadata": {
      "needs_background": "light"
     },
     "output_type": "display_data"
    }
   ],
   "source": [
    "plt.hist(MF_coef_x1)"
   ]
  },
  {
   "cell_type": "code",
   "execution_count": 106,
   "metadata": {},
   "outputs": [
    {
     "data": {
      "text/plain": [
       "array([-4.71674820e+00,  7.52960573e-01,  1.44258400e-02,  4.68290576e-01,\n",
       "       -1.22958322e+01,  6.50756200e+00, -1.65622803e+00,  4.32488009e-01,\n",
       "       -6.66026677e+00,  4.73306395e-01, -1.51689454e+01,  3.42758602e+00,\n",
       "       -3.62639999e+00, -4.01666171e+00,  2.70408731e+00, -2.31725079e+00,\n",
       "        8.38721376e-01, -9.95423832e-01,  2.13465821e+00, -1.71427045e+00,\n",
       "        7.02880749e+00,  1.53104790e+00, -5.41355741e-01, -3.79265251e+00,\n",
       "        9.54132470e-01, -4.33784191e+00,  5.41553935e+00,  4.50012217e-01,\n",
       "       -7.55056924e+01,  5.70592713e-01,  2.53805269e+00,  4.98397059e-01,\n",
       "        1.31970756e+00, -6.82863758e+00,  3.30077532e+00, -1.08809365e+00,\n",
       "        9.73131780e-01,  1.65069409e+00, -2.49269819e+00,  1.74939200e+00,\n",
       "        4.88401965e+00,  3.67776117e+00, -2.00234910e-01,  4.14010978e-01,\n",
       "       -6.79273388e+00,  1.61222751e+00, -3.58923200e-01,  3.00764739e+01,\n",
       "        3.83898947e+01,  3.56204899e-01, -3.89004255e+00, -2.18379768e+00,\n",
       "        2.27775536e+01,  1.15004906e+01,  6.35257885e-01, -1.05973572e+00,\n",
       "       -1.81155905e+03,  5.88927862e-01,  5.03058515e+00, -7.07586257e-01,\n",
       "        8.30291798e-01, -3.85163975e+00,  1.10745464e+00,  3.20004333e-01,\n",
       "       -1.31931254e+00,  2.77156211e+00, -6.19349838e-02,  9.37570033e-01,\n",
       "        6.92699607e+00, -1.23817959e+00,  1.66241010e+00,  3.81267194e-02,\n",
       "       -8.12255864e-01, -2.22644292e-01, -3.00151846e-01,  5.35000719e+00,\n",
       "       -6.46222051e-01,  9.33494606e-02, -4.89552101e+00,  3.92376725e-01,\n",
       "        1.23793557e+01,  7.91540709e-01, -4.45291256e+01,  1.03761897e+00,\n",
       "        9.29129122e-01,  2.05752393e-01, -6.07402583e-02,  2.03268748e+00,\n",
       "        1.65139717e+01,  1.40037579e+00,  1.15921839e+00, -7.86455222e+01,\n",
       "       -1.07988058e+00, -1.39746489e+00,  1.61942145e+01,  6.23028762e-01,\n",
       "        2.61891749e+00,  2.02115141e-01, -3.01815990e-01, -7.12391833e-01,\n",
       "        4.81991880e-01, -8.23566327e-01,  2.57903390e-01,  6.74198418e-01,\n",
       "       -5.67034191e+00,  2.63730370e+01,  3.89695365e+00,  1.07221978e+01,\n",
       "        3.38208620e+01,  2.85740915e+00,  5.24166360e-01,  1.89064854e+00,\n",
       "        3.24883770e-01, -2.83664597e+00,  6.71019476e-01,  6.16513484e+00,\n",
       "       -3.55674945e-01,  3.23101558e+00,  1.89235426e+00,  1.61134475e+00,\n",
       "        9.23399164e-01, -4.75702595e+00, -3.57772777e-01,  1.20276773e+00,\n",
       "       -1.07724348e+01,  8.83628534e+00, -5.48554582e-01,  6.07871535e+00,\n",
       "        1.68673513e+00, -1.68474138e+01,  4.44815457e+00, -2.08952227e+00,\n",
       "        1.14228852e-01,  3.74932732e+01, -1.25895836e+01, -2.19864995e+01,\n",
       "       -6.80115519e+00,  1.75521339e+00,  7.30751069e-01])"
      ]
     },
     "execution_count": 106,
     "metadata": {},
     "output_type": "execute_result"
    }
   ],
   "source": [
    "ratio"
   ]
  },
  {
   "cell_type": "code",
   "execution_count": 108,
   "metadata": {},
   "outputs": [
    {
     "data": {
      "text/plain": [
       "(array([  1.,   0.,   0.,   0.,   0.,   0.,   0.,   0.,   0., 138.]),\n",
       " array([-1811.55905222, -1626.56415753, -1441.56926284, -1256.57436815,\n",
       "        -1071.57947346,  -886.58457877,  -701.58968408,  -516.59478939,\n",
       "         -331.5998947 ,  -146.60500001,    38.38989468]),\n",
       " <BarContainer object of 10 artists>)"
      ]
     },
     "execution_count": 108,
     "metadata": {},
     "output_type": "execute_result"
    },
    {
     "data": {
      "image/png": "[encoded data removed]",
      "text/plain": [
       "<Figure size 432x288 with 1 Axes>"
      ]
     },
     "metadata": {
      "needs_background": "light"
     },
     "output_type": "display_data"
    }
   ],
   "source": [
    "plt.hist(ratio)"
   ]
  },
  {
   "cell_type": "code",
   "execution_count": 103,
   "metadata": {},
   "outputs": [
    {
     "data": {
      "text/plain": [
       "<matplotlib.collections.PathCollection at 0x7fab08f7c8b0>"
      ]
     },
     "execution_count": 103,
     "metadata": {},
     "output_type": "execute_result"
    },
    {
     "data": {
      "image/png": "[encoded data removed]",
      "text/plain": [
       "<Figure size 432x288 with 1 Axes>"
      ]
     },
     "metadata": {
      "needs_background": "light"
     },
     "output_type": "display_data"
    }
   ],
   "source": [
    "plt.scatter(MB_coef_x1, MF_coef_x1)"
   ]
  },
  {
   "cell_type": "code",
   "execution_count": null,
   "metadata": {},
   "outputs": [],
   "source": [
    "MF_coef_x1"
   ]
  },
  {
   "cell_type": "code",
   "execution_count": 133,
   "metadata": {},
   "outputs": [
    {
     "data": {
      "text/plain": [
       "(array([[1., 0., 0., ..., 0., 0., 0.],\n",
       "        [0., 0., 0., ..., 0., 0., 1.],\n",
       "        [0., 0., 0., ..., 0., 0., 0.],\n",
       "        ...,\n",
       "        [1., 0., 0., ..., 0., 0., 0.],\n",
       "        [1., 0., 0., ..., 0., 0., 0.],\n",
       "        [0., 0., 1., ..., 0., 0., 0.]]),\n",
       " array([1.04240000e-09, 1.00000001e-01, 2.00000001e-01, 3.00000001e-01,\n",
       "        4.00000001e-01, 5.00000001e-01, 6.00000000e-01, 7.00000000e-01,\n",
       "        8.00000000e-01, 9.00000000e-01, 1.00000000e+00]),\n",
       " <a list of 139 BarContainer objects>)"
      ]
     },
     "execution_count": 133,
     "metadata": {},
     "output_type": "execute_result"
    },
    {
     "data": {
      "image/png": "[encoded data removed]",
      "text/plain": [
       "<Figure size 432x288 with 1 Axes>"
      ]
     },
     "metadata": {
      "needs_background": "light"
     },
     "output_type": "display_data"
    }
   ],
   "source": [
    "plt.hist(w0)"
   ]
  },
  {
   "cell_type": "code",
   "execution_count": 134,
   "metadata": {},
   "outputs": [
    {
     "data": {
      "text/plain": [
       "0.29552064983229503"
      ]
     },
     "execution_count": 134,
     "metadata": {},
     "output_type": "execute_result"
    }
   ],
   "source": [
    "np.mean(w0)"
   ]
  }
 ],
 "metadata": {
  "kernelspec": {
   "display_name": "Python 3",
   "language": "python",
   "name": "python3"
  },
  "language_info": {
   "codemirror_mode": {
    "name": "ipython",
    "version": 3
   },
   "file_extension": ".py",
   "mimetype": "text/x-python",
   "name": "python",
   "nbconvert_exporter": "python",
   "pygments_lexer": "ipython3",
   "version": "3.8.5"
  }
 },
 "nbformat": 4,
 "nbformat_minor": 4
}
